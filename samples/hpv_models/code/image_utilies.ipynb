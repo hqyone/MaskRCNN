{
 "cells": [
  {
   "cell_type": "code",
   "execution_count": 84,
   "metadata": {},
   "outputs": [],
   "source": [
    "import os\n",
    "import numpy as np\n",
    "from skimage.draw import polygon\n",
    "import cv2\n",
    "import json\n",
    "from shutil import copyfile\n",
    "from pathlib import Path\n",
    "from skimage.measure import find_contours\n",
    "import glob\n",
    "import base64\n",
    "import skimage\n"
   ]
  },
  {
   "cell_type": "code",
   "execution_count": 98,
   "metadata": {},
   "outputs": [],
   "source": [
    "def getFileNameInfor(filepath):\n",
    "    file_name = filepath.split('/')[-1]\n",
    "    file_base = Path(filepath).stem\n",
    "    fdir = os.path.dirname(os.path.abspath(filepath))\n",
    "    return (fdir, file_name, file_base)"
   ]
  },
  {
   "cell_type": "code",
   "execution_count": 99,
   "metadata": {},
   "outputs": [],
   "source": [
    "def boundary2Mask(xs, ys, img):\n",
    "    mask = np.zeros(img.shape[0:2])\n",
    "    rr, cc = polygon(xs, ys, img.shape)\n",
    "    mask[rr, cc] = 255\n",
    "    return mask\n"
   ]
  },
  {
   "cell_type": "code",
   "execution_count": 108,
   "metadata": {},
   "outputs": [
    {
     "name": "stdout",
     "output_type": "stream",
     "text": [
      "[[[907.2156862745098, 493.0], [907.2142857142857, 488.0], [907.2125984251968, 483.0], [906.2156862745098, 479.0], [905.0, 475.7843137254902], [902.0, 473.7843137254902], [899.0, 471.78], [896.0, 469.78740157480314], [892.0, 468.7843137254902], [887.0, 468.7843137254902], [882.0, 468.7843137254902], [878.0, 469.7843137254902], [875.7843137254902, 472.0], [875.7843137254902, 477.0], [876.7843137254902, 481.0], [878.7843137254902, 484.0], [880.7874015748032, 487.0], [883.0, 489.2173913043478], [885.7826086956521, 492.0], [888.7843137254902, 494.0], [892.0, 495.21259842519686], [896.0, 496.2156862745098], [901.0, 496.2165354330709], [904.2125984251968, 495.0], [907.2156862745098, 493.0]]]\n"
     ]
    }
   ],
   "source": [
    "def mask2Boundary(mask_file, sample_ratio=5):\n",
    "    mask = cv2.imread(mask_file)[:,:,0] \n",
    "    contours = find_contours(mask, 200)\n",
    "    boundaries=[]\n",
    "    for i, verts in enumerate(contours):\n",
    "        new_vects = []\n",
    "        for k, p in enumerate(verts):\n",
    "            # Subtract the padding and flip (y, x) to (x, y)z\n",
    "            if k % sample_ratio==0:\n",
    "                new_vects.append(list(p))\n",
    "        boundaries.append(new_vects)\n",
    "    return boundaries\n",
    "\n",
    "masks = '/home/hqyone/mnt/2tb/github/MaskRCNN_TF1/samples/hpv_models/test/data/proj_outdir/1456/masks/0_yin.jpg'\n",
    "print(mask2Boundary(masks))"
   ]
  },
  {
   "cell_type": "code",
   "execution_count": 109,
   "metadata": {},
   "outputs": [],
   "source": [
    "def masks2json(mask_file_ls, img_file, out_dir):\n",
    "    img_dir, img_name, img_id = getFileNameInfor(img_file)\n",
    "    json_file=\"{}/{}.json\".format(out_dir,image_id)\n",
    "    # image = skimage.io.imread(img_file)\n",
    "    image = cv2.imread(img_file) \n",
    "    imageHeight = image.shape[0]    # 获得长宽\n",
    "    imageWidth = image.shape[1]\n",
    "    with open(img_file, 'rb') as f:   # 编码图片 base64\n",
    "        imageData = base64.b64encode(f.read())\n",
    "        imageData = str(imageData, encoding='utf-8')\n",
    "    json_data = {\n",
    "        'version': \"4.5.6\",\n",
    "        \"flags\": {},\n",
    "        'shapes': [],\n",
    "        'imagePath': img_file,\n",
    "        'imageData': imageData,\n",
    "        'imageHeight': imageHeight,\n",
    "        'imageWidth': imageWidth\n",
    "    }\n",
    "    \n",
    "    for i,m in enumerate(mask_file_ls):\n",
    "        m_dir, m_name, m_id = getFileNameInfor(m)\n",
    "        className = m_id.split(\"_\")[-1]\n",
    "        boundary = mask2Boundary(m)[0]\n",
    "        obj = {\n",
    "            'ID': i,\n",
    "            'label': className,\n",
    "            'points': [],\n",
    "            'group_id': None,\n",
    "            'shape_type': \"polygon\",\n",
    "            'flags': {},\n",
    "        }\n",
    "        for point in boundary:\n",
    "            obj[\"points\"].append([float(point[0]), float(point[1])])\n",
    "        json_data['shapes'].append(obj)\n",
    "    json_str = json.dumps(json_data, indent=4)\n",
    "    with open('{}/{}.json'.format(out_dir, img_id), 'w') as json_file:\n",
    "        json_file.write(json_str)\n",
    "    copyfile(img_file, '{}/{}.png'.format(out_dir, img_id))\n",
    "\n",
    "# test\n",
    "img_file = \"/home/hqyone/mnt/2tb/github/MaskRCNN_TF1/samples/hpv_models/test/data/proj_outdir/1456/1456.png\"\n",
    "img_dir, img_name, img_id = getFileNameInfor(img_file) \n",
    "mask_dir= \"{}/masks/\".format(img_dir)\n",
    "mask_file_ls = glob.glob('{}/*.jpg'.format(mask_dir))\n",
    "out_dir = \"/home/hqyone/mnt/2tb/github/MaskRCNN_TF1/samples/hpv_models/test/data/out_json\"\n",
    "masks2json(mask_file_ls, img_file, out_dir)"
   ]
  },
  {
   "cell_type": "code",
   "execution_count": null,
   "metadata": {},
   "outputs": [],
   "source": [
    "import sys\n",
    "ROOT_DIR = os.path.abspath(\"../../\")  # 指定根目录\n",
    "sys.path.append(ROOT_DIR)  # 查找库的本地版本\n",
    "from mrcnn import utils\n",
    "\n",
    "def removeDuplicateObject(r, min_ratio=0.7):\n",
    "    classid_ls = list(map(int, r['class_ids']))\n",
    "    scores = r[\"scores\"]\n",
    "    masks = r[\"masks\"]\n",
    "\n",
    "    new_classid_ls = []\n",
    "    new_scores = []\n",
    "    new_masks = None\n",
    "    removed_indexes = []\n",
    "    for i in range(len(classid_ls)-1):\n",
    "        for k in range(i+1, len(classid_ls)):\n",
    "            if k in removed_indexes:\n",
    "                continue\n",
    "            mask_a = np.reshape(masks[:,:,i],(masks.shape[0],masks.shape[1],1))\n",
    "            class_a = classid_ls[i]\n",
    "            mask_b = np.reshape(masks[:,:,k],(masks.shape[0],masks.shape[1],1))\n",
    "            class_b = classid_ls[k]\n",
    "            #print(utils.compute_overlaps_masks(mask_a, mask_b))\n",
    "            #print('as')\n",
    "            if utils.compute_overlaps_masks(mask_a, mask_b)[0]>min_ratio:\n",
    "                if class_a<class_b:\n",
    "                    removed_indexes.append(k)\n",
    "                else:\n",
    "                    removed_indexes.append(i)\n",
    "                continue\n",
    "        if i in removed_indexes:\n",
    "            continue\n",
    "        else:\n",
    "            new_classid_ls.append(classid_ls[i])\n",
    "            new_scores.append(scores[i])\n",
    "            if new_masks is None:\n",
    "                new_masks=np.reshape(masks[:,:, i],(masks.shape[0],masks.shape[1],1))\n",
    "            else:\n",
    "                mask=np.reshape(masks[:,:, i],(masks.shape[0],masks.shape[1],1))\n",
    "                new_masks=np.concatenate([new_masks, mask], axis=-1)\n",
    "    return {'class_ids':new_classid_ls, \"scores\":new_scores, \"masks\":new_masks}"
   ]
  },
  {
   "cell_type": "code",
   "execution_count": null,
   "metadata": {},
   "outputs": [],
   "source": [
    "def predictToJson(image_path, model, out_dir):\n",
    "    img_dir, img_name, img_id = getFileNameInfor(img_file)\n",
    "    image = skimage.io.imread(image_path)\n",
    "    imageHeight = image.shape[0]    # 获得长宽\n",
    "    imageWidth = image.shape[1]\n",
    "    rr = model.detect([image], verbose=1)[0]\n",
    "    r = removeDuplicateObject(rr,0.6)\n",
    "    with open(image_path, 'rb') as f:   # 编码图片 base64\n",
    "        imageData = base64.b64encode(f.read())\n",
    "        imageData = str(imageData, encoding='utf-8')\n",
    "    json_data = {\n",
    "        'version': \"4.5.6\",\n",
    "        \"flags\": {},\n",
    "        'shapes': [],\n",
    "        'imagePath': img_dir,\n",
    "        'imageData': imageData,\n",
    "        'imageHeight': imageHeight,\n",
    "        'imageWidth': imageWidth\n",
    "    }\n",
    "    for i in range(0, len(r['class_ids'])):\n",
    "        class_id = int(r['class_ids'][i])\n",
    "        className = ['BG', 'yin', 'yin-yang', 'yang']   # 把数字对应上标签\n",
    "        score = int(r[\"scores\"][i])\n",
    "        mask = r[\"masks\"][:, :, i]\n",
    "        boundary = mask2Boundary(mask)\n",
    "        obj = {\n",
    "            'ID': i,\n",
    "            'label': className[class_id],\n",
    "            'points': [],\n",
    "            'group_id': None,\n",
    "            'shape_type': \"polygon\",\n",
    "            'flags': {},\n",
    "        }\n",
    "        i = 0\n",
    "        for point in boundary:\n",
    "            obj[\"points\"].append([float(point[0]), float(point[1])])\n",
    "        json_data['shapes'].append(obj)\n",
    "    json_str = json.dumps(json_data, indent=4)\n",
    "    with open('{}/{}.json'.format(out_dir, img_id), 'w') as json_file:\n",
    "        json_file.write(json_str)\n",
    "    copyfile(img_file, '{}/{}.png'.format(out_dir, img_id))"
   ]
  },
  {
   "cell_type": "code",
   "execution_count": null,
   "metadata": {},
   "outputs": [],
   "source": [
    "\n",
    "\n",
    "            \n",
    "\n",
    "        \n",
    "    "
   ]
  },
  {
   "cell_type": "code",
   "execution_count": 66,
   "metadata": {},
   "outputs": [
    {
     "ename": "IndexError",
     "evalue": "too many indices for array: array is 2-dimensional, but 3 were indexed",
     "output_type": "error",
     "traceback": [
      "\u001b[0;31m---------------------------------------------------------------------------\u001b[0m",
      "\u001b[0;31mIndexError\u001b[0m                                Traceback (most recent call last)",
      "\u001b[0;32m/tmp/ipykernel_903168/3659579324.py\u001b[0m in \u001b[0;36m<module>\u001b[0;34m\u001b[0m\n\u001b[1;32m      4\u001b[0m \u001b[0mmasks\u001b[0m \u001b[0;34m=\u001b[0m \u001b[0mnp\u001b[0m\u001b[0;34m.\u001b[0m\u001b[0mconcatenate\u001b[0m\u001b[0;34m(\u001b[0m\u001b[0;34m[\u001b[0m\u001b[0ma\u001b[0m\u001b[0;34m,\u001b[0m \u001b[0mb\u001b[0m\u001b[0;34m]\u001b[0m\u001b[0;34m,\u001b[0m \u001b[0maxis\u001b[0m\u001b[0;34m=\u001b[0m\u001b[0;34m-\u001b[0m\u001b[0;36m1\u001b[0m\u001b[0;34m)\u001b[0m\u001b[0;34m\u001b[0m\u001b[0;34m\u001b[0m\u001b[0m\n\u001b[1;32m      5\u001b[0m \u001b[0;34m\u001b[0m\u001b[0m\n\u001b[0;32m----> 6\u001b[0;31m \u001b[0mprint\u001b[0m\u001b[0;34m(\u001b[0m\u001b[0mmasks\u001b[0m\u001b[0;34m[\u001b[0m\u001b[0;34m:\u001b[0m\u001b[0;34m,\u001b[0m\u001b[0;34m:\u001b[0m\u001b[0;34m,\u001b[0m\u001b[0;36m0\u001b[0m\u001b[0;34m]\u001b[0m\u001b[0;34m)\u001b[0m\u001b[0;34m\u001b[0m\u001b[0;34m\u001b[0m\u001b[0m\n\u001b[0m\u001b[1;32m      7\u001b[0m \u001b[0;34m\u001b[0m\u001b[0m\n\u001b[1;32m      8\u001b[0m \u001b[0mk\u001b[0m\u001b[0;34m=\u001b[0m\u001b[0mnp\u001b[0m\u001b[0;34m.\u001b[0m\u001b[0marray\u001b[0m\u001b[0;34m(\u001b[0m\u001b[0;34m[\u001b[0m\u001b[0;36m1\u001b[0m\u001b[0;34m,\u001b[0m\u001b[0;36m2\u001b[0m\u001b[0;34m]\u001b[0m\u001b[0;34m)\u001b[0m\u001b[0;34m\u001b[0m\u001b[0;34m\u001b[0m\u001b[0m\n",
      "\u001b[0;31mIndexError\u001b[0m: too many indices for array: array is 2-dimensional, but 3 were indexed"
     ]
    }
   ],
   "source": [
    "\n",
    "from skimage import data\n",
    "a = data.camera()\n",
    "b = data.camera()*2\n",
    "masks = np.concatenate([a, b], axis=-1)\n",
    "\n",
    "print(masks[:,:,0])\n",
    "\n",
    "k=np.array([1,2])\n",
    "p=np.array([3,4])\n",
    "#np.append(k, p)\n",
    "#a[:,:,1]"
   ]
  },
  {
   "cell_type": "markdown",
   "metadata": {},
   "source": []
  },
  {
   "cell_type": "code",
   "execution_count": 110,
   "metadata": {},
   "outputs": [],
   "source": [
    "\n",
    "def json2masks(json_file, img_file, out_dir):\n",
    "    img_dir, img_name, image_id = getFileNameInfor(img_file)\n",
    "    img = cv2.imread(img_file) \n",
    "    with open(json_file) as JSON:\n",
    "        data = json.load(JSON)\n",
    "        image_name = data['imagePath']\n",
    "        image_height = data['imageHeight']\n",
    "        image_width = data['imageWidth']\n",
    "        shapes = data[\"shapes\"]\n",
    "        os.makedirs('{}/{}'.format(out_dir,image_id), exist_ok=True)\n",
    "        os.makedirs('{}/{}/masks'.format(out_dir,image_id), exist_ok=True)\n",
    "        copyfile(img_file, '{}/{}/{}'.format(out_dir,image_id,img_name))\n",
    "        for i, s in enumerate(shapes):\n",
    "            label = s['label']\n",
    "            points = s['points']\n",
    "            xs = []\n",
    "            ys = []\n",
    "            for p in points:\n",
    "                ys.append(p[0])\n",
    "                xs.append(p[1])\n",
    "            mask = boundary2Mask(xs, ys, img)\n",
    "            cv2.imwrite(\"{}/{}/masks/{}_{}.jpg\".format(out_dir, image_id,i,label), mask)\n",
    "           "
   ]
  },
  {
   "cell_type": "code",
   "execution_count": 112,
   "metadata": {},
   "outputs": [],
   "source": [
    "def json2cell_infor(json_file):\n",
    "    with open(json_file) as JSON:\n",
    "        data = json.load(JSON)\n",
    "        image_name = data['imagePath']\n",
    "        shapes = data[\"shapes\"]\n",
    "        cell_dic = {}\n",
    "        for i, s in enumerate(shapes):\n",
    "            label = s['label']\n",
    "            if label not in cell_dic:\n",
    "                cell_dic[label]=0\n",
    "            cell_dic[label]+=1\n",
    "        return cell_dic\n",
    "            \n",
    "            \n",
    "    "
   ]
  },
  {
   "cell_type": "code",
   "execution_count": null,
   "metadata": {},
   "outputs": [],
   "source": [
    "\n",
    "    "
   ]
  },
  {
   "cell_type": "code",
   "execution_count": 114,
   "metadata": {},
   "outputs": [
    {
     "name": "stdout",
     "output_type": "stream",
     "text": [
      "{'yin': 24, 'yin-yang': 3, 'yang': 1}\n"
     ]
    }
   ],
   "source": [
    "test_img = '/home/hqyone/mnt/2tb/github/MaskRCNN_TF1/samples/hpv_models/test/data/datasource/1456.png'\n",
    "image_id = '1456'\n",
    "test_json = '/home/hqyone/mnt/2tb/github/MaskRCNN_TF1/samples/hpv_models/test/data/datasource/1459.json'\n",
    "out_dir = '/home/hqyone/mnt/2tb/github/MaskRCNN_TF1/samples/hpv_models/test/data/proj_outdir'\n",
    "# \n",
    "# json2masks(test_json,test_img, out_dir)\n",
    "print(json2cell_infor(test_json))\n",
    "\n",
    "\n"
   ]
  },
  {
   "cell_type": "markdown",
   "metadata": {},
   "source": []
  },
  {
   "cell_type": "markdown",
   "metadata": {},
   "source": []
  },
  {
   "cell_type": "markdown",
   "metadata": {},
   "source": []
  },
  {
   "cell_type": "markdown",
   "metadata": {},
   "source": []
  }
 ],
 "metadata": {
  "interpreter": {
   "hash": "293c1db29015928fa70f2533541959f8126d727ab89dca2b968066b00ebfbe03"
  },
  "kernelspec": {
   "display_name": "Python 3.7.11 64-bit ('tf1': conda)",
   "name": "python3"
  },
  "language_info": {
   "codemirror_mode": {
    "name": "ipython",
    "version": 3
   },
   "file_extension": ".py",
   "mimetype": "text/x-python",
   "name": "python",
   "nbconvert_exporter": "python",
   "pygments_lexer": "ipython3",
   "version": "3.7.11"
  },
  "orig_nbformat": 4
 },
 "nbformat": 4,
 "nbformat_minor": 2
}
