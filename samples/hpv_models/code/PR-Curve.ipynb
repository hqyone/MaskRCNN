{
 "cells": [
  {
   "cell_type": "code",
   "execution_count": 14,
   "metadata": {},
   "outputs": [],
   "source": [
    "import os\n",
    "import sys\n",
    "import random\n",
    "import numpy as np\n",
    "import tensorflow as tf\n",
    "import matplotlib.pyplot as plt\n",
    "from nltk.metrics import scores\n",
    "\n",
    "ROOT_DIR = os.path.abspath(\"../../../\")  # 指定根目录\n",
    "\n",
    "# 导入Mask RCNN\n",
    "sys.path.append(ROOT_DIR)  # 查找库的本地版本\n",
    "from mrcnn.config import Config\n",
    "from mrcnn import utils\n",
    "from mrcnn import model as modellib\n",
    "from mrcnn import visualize\n",
    "from samples.hpv_models.code.hpv import train, detect, NucleusDataset, NucleusConfig, NucleusInferenceConfig"
   ]
  },
  {
   "cell_type": "code",
   "execution_count": 15,
   "metadata": {},
   "outputs": [
    {
     "name": "stdout",
     "output_type": "stream",
     "text": [
      "/home/hqyone/mnt/2tb/github/MaskRCNN_TF1/samples/hpv_models/data\n",
      "Images: 9\n",
      "Classes: ['BG', 'yin', 'yin-yang', 'yang']\n"
     ]
    }
   ],
   "source": [
    "ROOT_DIR = os.path.abspath(\"../../../\")\n",
    "sys.path.append(ROOT_DIR)  # To find local version of the library\n",
    "#from mrcnn import utils\n",
    "from ap import compute_ap\n",
    "from mrcnn import visualize\n",
    "import mrcnn.model as modellib\n",
    "import pickle\n",
    "\n",
    "##############  配置参数  ####\n",
    "LOGS_DIR = os.path.join(ROOT_DIR, \"samples/hpv_models/logs\")\n",
    "DATASET_DIR = os.path.join(ROOT_DIR, \"samples/hpv_models/data\")   #  数据集\n",
    "print(DATASET_DIR)\n",
    "config = NucleusInferenceConfig()\n",
    "DEVICE = \"/cpu:0\"\n",
    "TEST_MODE = \"inference\"\n",
    "\n",
    "\n",
    "#####  加载测试集数据  #####\n",
    "dataset = NucleusDataset()\n",
    "dataset.load_nucleus(DATASET_DIR, \"stage1_test\")\n",
    "dataset.prepare()\n",
    "print(\"Images: {}\\nClasses: {}\".format(len(dataset.image_ids), dataset.class_names))"
   ]
  },
  {
   "cell_type": "code",
   "execution_count": 16,
   "metadata": {},
   "outputs": [],
   "source": [
    "# Two helper functions\n",
    "def get_ax(rows=1, cols=1, size=16):\n",
    "    fig, ax = plt.subplots(rows, cols, figsize=(size * cols, size * rows))\n",
    "    fig.tight_layout()\n",
    "    return ax\n",
    "def text_save(filename, data):#filename为写入CSV文件的路径，data为要写入数据列表.\n",
    "    file = open(filename, 'a')\n",
    "    for i in range(len(data)):\n",
    "        s = str(data[i]).replace('[','').replace(']','')#去除[],这两行按数据不同，可以选择\n",
    "        s = s.replace(\"'\",'').replace(',','') +'\\n'   #去除单引号，逗号，每行末尾追加换行符\n",
    "        file.write(s)\n",
    "    file.close()\n",
    "    print(\"保存txt文件成功\")"
   ]
  },
  {
   "cell_type": "code",
   "execution_count": 17,
   "metadata": {},
   "outputs": [
    {
     "name": "stdout",
     "output_type": "stream",
     "text": [
      "[0 1 2 3 4 5 6 7 8]\n"
     ]
    }
   ],
   "source": [
    "#####  导入模型  ####\n",
    "# image_id = random.choice(dataset.image_ids)   # 随机选取一张测试集\n",
    "image_ids = dataset.image_ids\n",
    "print(image_ids)\n",
    "\n",
    "with tf.device(DEVICE):\n",
    "    model = modellib.MaskRCNN(mode=\"inference\",model_dir=LOGS_DIR,config=config)\n",
    "# weights_path = \"/Mask_RCNN/logs/hpv20210105T1517/mask_rcnn_hpv_0799.h5\"\n",
    "weights_path = \"/home/hqyone/mnt/2tb/github/MaskRCNN_TF1/samples/hpv_models/logs/mask_rcnn_model3-3_0150.h5\"\n",
    "model.load_weights(weights_path, by_name=True)\n",
    "\n"
   ]
  },
  {
   "cell_type": "code",
   "execution_count": 7,
   "metadata": {},
   "outputs": [
    {
     "name": "stdout",
     "output_type": "stream",
     "text": [
      "image_id:  0\n",
      "/home/hqyone/mnt/2tb/github/MaskRCNN_TF1/samples/hpv_models/data/stage1_test/1456/masksxxxxxx\n",
      "Processing 1 images\n",
      "image                    shape: (2048, 2048, 3)       min:   19.00000  max:  255.00000  uint8\n",
      "molded_images            shape: (1, 2048, 2048, 3)    min:   19.00000  max:  255.00000  uint8\n",
      "image_metas              shape: (1, 16)               min:    0.00000  max: 2048.00000  float64\n",
      "anchors                  shape: (1, 1047552, 4)       min:   -0.04422  max:    1.01295  float32\n",
      "image_id:  1\n",
      "/home/hqyone/mnt/2tb/github/MaskRCNN_TF1/samples/hpv_models/data/stage1_test/1458/masksxxxxxx\n",
      "Processing 1 images\n",
      "image                    shape: (2048, 2048, 3)       min:   21.00000  max:  249.00000  uint8\n",
      "molded_images            shape: (1, 2048, 2048, 3)    min:   21.00000  max:  249.00000  uint8\n",
      "image_metas              shape: (1, 16)               min:    0.00000  max: 2048.00000  float64\n",
      "anchors                  shape: (1, 1047552, 4)       min:   -0.04422  max:    1.01295  float32\n",
      "image_id:  2\n",
      "/home/hqyone/mnt/2tb/github/MaskRCNN_TF1/samples/hpv_models/data/stage1_test/1462/masksxxxxxx\n",
      "Processing 1 images\n",
      "image                    shape: (2048, 2048, 3)       min:   13.00000  max:  253.00000  uint8\n",
      "molded_images            shape: (1, 2048, 2048, 3)    min:   13.00000  max:  253.00000  uint8\n",
      "image_metas              shape: (1, 16)               min:    0.00000  max: 2048.00000  float64\n",
      "anchors                  shape: (1, 1047552, 4)       min:   -0.04422  max:    1.01295  float32\n",
      "image_id:  3\n",
      "/home/hqyone/mnt/2tb/github/MaskRCNN_TF1/samples/hpv_models/data/stage1_test/1467/masksxxxxxx\n",
      "Processing 1 images\n",
      "image                    shape: (2048, 2048, 3)       min:   19.00000  max:  255.00000  uint8\n",
      "molded_images            shape: (1, 2048, 2048, 3)    min:   19.00000  max:  255.00000  uint8\n",
      "image_metas              shape: (1, 16)               min:    0.00000  max: 2048.00000  float64\n",
      "anchors                  shape: (1, 1047552, 4)       min:   -0.04422  max:    1.01295  float32\n"
     ]
    }
   ],
   "source": [
    "\n",
    "APs = []\n",
    "count1 = 0\n",
    "for image_id in image_ids:\n",
    "    info = dataset.image_info[image_id]\n",
    "    print(\"image_id: \", image_id)\n",
    "    # ####重要步骤：获得测试图片的信息\n",
    "    image, image_meta, gt_class_id, gt_bbox, gt_mask = modellib.load_image_gt(dataset, config, image_id, use_mini_mask=False)\n",
    "    #print(image)\n",
    "    # ###保存实际结果\n",
    "    if count1 == 0:\n",
    "        # gt_image_id_all, gt_bbox_all, gt_class_id_all, gt_mask_all = [image_id]*len(gt_class_id), gt_bbox, gt_class_id, gt_mask\n",
    "        gt_bbox_all, gt_class_id_all, gt_mask_all = gt_bbox, gt_class_id, gt_mask\n",
    "    else:\n",
    "        # gt_image_id_all=np.concatenate((gt_class_id_all, [image_id]*len(gt_class_id)), axis=0)\n",
    "        gt_bbox_all = np.concatenate((gt_bbox_all, gt_bbox), axis=0)\n",
    "        gt_class_id_all = np.concatenate((gt_class_id_all, gt_class_id), axis=0)\n",
    "        gt_mask_all = np.concatenate((gt_mask_all, gt_mask), axis=2)\n",
    "    # # 显示检测结果\n",
    "    results = model.detect_molded(np.expand_dims(image, 0), np.expand_dims(image_meta, 0), verbose=1)\n",
    "    r = results[0]\n",
    "    # 保存预测结果\n",
    "    if count1 == 0:\n",
    "        # pre_image_id_all, pre_masks_all, pre_class_ids_all, pre_rois_all, pre_scores_all = [image_id]*len(r[\"class_ids\"]),r['masks'], r[\"class_ids\"], r[\"rois\"], r[\"scores\"]\n",
    "        pre_masks_all, pre_class_ids_all, pre_rois_all, pre_scores_all = r['masks'], r[\"class_ids\"], r[\"rois\"], r[\"scores\"]\n",
    "    else:\n",
    "        # pre_image_id_all = np.concatenate((pre_class_ids_all, [image_id]*len(r[\"class_ids\"])), axis=0)\n",
    "        pre_masks_all = np.concatenate((pre_masks_all, r['masks']), axis=2)\n",
    "        pre_class_ids_all = np.concatenate((pre_class_ids_all, r['class_ids']), axis=0)\n",
    "        pre_rois_all = np.concatenate((pre_rois_all, r['rois']), axis=0)\n",
    "        pre_scores_all = np.concatenate((pre_scores_all, r['scores']), axis=0)\n",
    "\n",
    "    count1 += 1\n",
    "    #break\n",
    "\n",
    "# ######绘制PR曲线######\n",
    "AP, precisions, recalls, overlaps = compute_ap(gt_bbox_all, gt_class_id_all, gt_mask_all,\n",
    "                                                    pre_rois_all, pre_class_ids_all, pre_scores_all, pre_masks_all)\n"
   ]
  },
  {
   "cell_type": "code",
   "execution_count": 6,
   "metadata": {},
   "outputs": [
    {
     "name": "stdout",
     "output_type": "stream",
     "text": [
      "[1 1 1 1 1 1 1 1 1 1 1 1 1 1 1 1 1 1 1 1 1 1 1 1 1 1 1 1 1 1 1 1 1 1 1 1 1\n",
      " 1 1 1 1 1 1 1 1 1 1 1 1 1 1 1 1 1 1 1 1 1 1 1 1 1 1 1 1 1 1 1 1 1 1 1 1 1\n",
      " 1 1 1 1 1 1 1 1 1 1 1 1 1 1 1 1 1 1 1 1 1 1 1 1 1 1 1 1 1 1 1 1 1 1 1 1 1\n",
      " 1 1 1 1 1 1 1 1 1 1 1 1 1 1 1 1 1 1 1 1 1 1 1 1 1 1 1 1 1 1 1 1 1 1 1 1 1\n",
      " 1 1 1 1 1 1 1 1 1 1 1 1 1 1 1 1 1 1 1 1 1 1 1 1 1 1 1 1 1 1 1 1 1 1 1 1 1\n",
      " 1 1 1 1 1 1]\n",
      "[1 1 1 1 1 1 1 1 1 1 1 1 1 1 1 1 1 1 1 1 1 1 1 1 1 1 1 1 1 1 1 1 1 1 1 1 1\n",
      " 1 1 1 1 1 1 1 1 1 1 1 1 1 1 1 1 1 1 1 1 1 1 1 1 1 1 1 1 1 1 1 1 1 1 1 1 1\n",
      " 1 1 1 1 1 1 1 1 1 1 1 1 1 1 1 1 1 1 1 1 1 1 1 1 1 1 1 1 1 1 1 1 1 1 1 1 1\n",
      " 1 1 1 1 1 1 1 1 1 1 1 1 1 1 1 1 1 1 1 1]\n"
     ]
    }
   ],
   "source": [
    "# print(pre_image_id_all)\n",
    "# print(gt_image_id_all)"
   ]
  },
  {
   "cell_type": "code",
   "execution_count": 9,
   "metadata": {},
   "outputs": [
    {
     "name": "stdout",
     "output_type": "stream",
     "text": [
      "precisions:  [1.         1.         1.         1.         1.         1.\n",
      " 1.         1.         1.         1.         1.         1.\n",
      " 1.         1.         1.         1.         1.         1.\n",
      " 1.         1.         1.         1.         1.         1.\n",
      " 1.         1.         1.         1.         1.         1.\n",
      " 1.         1.         1.         1.         1.         1.\n",
      " 1.         1.         1.         1.         1.         1.\n",
      " 1.         1.         1.         1.         1.         1.\n",
      " 1.         1.         1.         1.         1.         0.98214286\n",
      " 0.98214286 0.98214286 0.98214286 0.96969697 0.96969697 0.96969697\n",
      " 0.96969697 0.96969697 0.96969697 0.96969697 0.96969697 0.96969697\n",
      " 0.96969697 0.96629213 0.96629213 0.96629213 0.96629213 0.96629213\n",
      " 0.96629213 0.96629213 0.96629213 0.96629213 0.96629213 0.96629213\n",
      " 0.96629213 0.96629213 0.96629213 0.96629213 0.96629213 0.96629213\n",
      " 0.96629213 0.96629213 0.96629213 0.96629213 0.96629213 0.96629213\n",
      " 0.95555556 0.95192308 0.95192308 0.95192308 0.95192308 0.95192308\n",
      " 0.95192308 0.95192308 0.95192308 0.95192308 0.95192308 0.95192308\n",
      " 0.95192308 0.95192308 0.95192308 0.94392523 0.94392523 0.94392523\n",
      " 0.93518519 0.9266055  0.92105263 0.92105263 0.92105263 0.92105263\n",
      " 0.92105263 0.91452991 0.91452991 0.91452991 0.90677966 0.90082645\n",
      " 0.90082645 0.90082645 0.89344262 0.888      0.888      0.888\n",
      " 0.88461538 0.88461538 0.88461538 0.88461538 0.88461538 0.8778626\n",
      " 0.87121212 0.86466165 0.85820896 0.85185185 0.84558824 0.84172662\n",
      " 0.84172662 0.84172662 0.83802817 0.83802817 0.83802817 0.83216783\n",
      " 0.82638889 0.82312925 0.82312925 0.82312925 0.81756757 0.81333333\n",
      " 0.81333333 0.80794702 0.80263158 0.79738562 0.79220779 0.78709677\n",
      " 0.78205128 0.77707006 0.7721519  0.7672956  0.7625     0.75925926\n",
      " 0.75925926 0.75460123 0.75       0.74545455 0.74251497 0.74251497\n",
      " 0.73809524 0.73372781 0.72941176 0.7251462  0.72093023 0.71676301\n",
      " 0.71428571 0.71428571 0.71022727 0.70621469 0.70224719 0.69832402\n",
      " 0.69444444 0.69060773 0.68681319 0.68306011 0.67934783 0.67567568\n",
      " 0.67204301 0.6684492  0.66489362 0.66137566 0.65789474 0.65445026\n",
      " 0.        ]\n",
      "AP:  0.914958209607954\n"
     ]
    },
    {
     "data": {
      "image/png": "[encoded data removed]",
      "text/plain": [
       "<Figure size 432x288 with 1 Axes>"
      ]
     },
     "metadata": {},
     "output_type": "display_data"
    },
    {
     "name": "stdout",
     "output_type": "stream",
     "text": [
      "保存txt文件成功\n",
      "保存txt文件成功\n"
     ]
    }
   ],
   "source": [
    "from ap import compute_ap, compute_matches\n",
    "# # 在阈值0.5到0.95之间每隔0.1显示AP值\n",
    "# utils.compute_ap_range(gt_bbox_all, gt_class_id_all, gt_mask_all, pre_rois_all, pre_class_ids_all, pre_scores_all, pre_masks_all, verbose=1)\n",
    "## 在图片中显示真实与预测之间的差异\n",
    "# visualize.display_differences(image, gt_bbox, gt_class_id, gt_mask, r['rois'], r['class_ids'], r['scores'], r['masks'],\n",
    "#                               dataset.class_names, ax=get_ax(), show_box=False, show_mask=False, iou_threshold=0.5, score_threshold=0.5)\n",
    "# plt.show()\n",
    "\n",
    "\n",
    "print(\"precisions: \", precisions)\n",
    "print(\"AP: \", AP)\n",
    "\n",
    "plt.figure(\"P-R Curve\")\n",
    "plt.title('Precision-Recall Curve. AP@50 = {:.3f}'.format(AP))\n",
    "plt.xlabel('Recall')\n",
    "plt.ylabel('Precision')\n",
    "plt.plot(recalls, precisions, 'b', label='PR')\n",
    "plt.show()\n",
    "text_save('Kpreci.txt', precisions)\n",
    "text_save('Krecall.txt', recalls)"
   ]
  },
  {
   "cell_type": "code",
   "execution_count": 18,
   "metadata": {},
   "outputs": [
    {
     "name": "stdout",
     "output_type": "stream",
     "text": [
      "image_id:  0\n",
      "/home/hqyone/mnt/2tb/github/MaskRCNN_TF1/samples/hpv_models/data/stage1_test/1456/masksxxxxxx\n",
      "Processing 1 images\n",
      "image                    shape: (2048, 2048, 3)       min:   19.00000  max:  255.00000  uint8\n",
      "molded_images            shape: (1, 2048, 2048, 3)    min:   19.00000  max:  255.00000  uint8\n",
      "image_metas              shape: (1, 16)               min:    0.00000  max: 2048.00000  float64\n",
      "anchors                  shape: (1, 1047552, 4)       min:   -0.04422  max:    1.01295  float32\n",
      "image_id:  1\n",
      "/home/hqyone/mnt/2tb/github/MaskRCNN_TF1/samples/hpv_models/data/stage1_test/1458/masksxxxxxx\n",
      "Processing 1 images\n",
      "image                    shape: (2048, 2048, 3)       min:   21.00000  max:  249.00000  uint8\n",
      "molded_images            shape: (1, 2048, 2048, 3)    min:   21.00000  max:  249.00000  uint8\n",
      "image_metas              shape: (1, 16)               min:    0.00000  max: 2048.00000  float64\n",
      "anchors                  shape: (1, 1047552, 4)       min:   -0.04422  max:    1.01295  float32\n",
      "image_id:  2\n",
      "/home/hqyone/mnt/2tb/github/MaskRCNN_TF1/samples/hpv_models/data/stage1_test/1462/masksxxxxxx\n",
      "Processing 1 images\n",
      "image                    shape: (2048, 2048, 3)       min:   13.00000  max:  253.00000  uint8\n",
      "molded_images            shape: (1, 2048, 2048, 3)    min:   13.00000  max:  253.00000  uint8\n",
      "image_metas              shape: (1, 16)               min:    0.00000  max: 2048.00000  float64\n",
      "anchors                  shape: (1, 1047552, 4)       min:   -0.04422  max:    1.01295  float32\n",
      "image_id:  3\n",
      "/home/hqyone/mnt/2tb/github/MaskRCNN_TF1/samples/hpv_models/data/stage1_test/1467/masksxxxxxx\n",
      "Processing 1 images\n",
      "image                    shape: (2048, 2048, 3)       min:   19.00000  max:  255.00000  uint8\n",
      "molded_images            shape: (1, 2048, 2048, 3)    min:   19.00000  max:  255.00000  uint8\n",
      "image_metas              shape: (1, 16)               min:    0.00000  max: 2048.00000  float64\n",
      "anchors                  shape: (1, 1047552, 4)       min:   -0.04422  max:    1.01295  float32\n"
     ]
    }
   ],
   "source": [
    "from ap import compute_ap, compute_matches\n",
    "\n",
    "#print(precisions)\n",
    "def calculateMatch(image_id):\n",
    "    info = dataset.image_info[image_id]\n",
    "    print(\"image_id: \", image_id)\n",
    "    # ####重要步骤：获得测试图片的信息\n",
    "    image, image_meta, gt_class_id, gt_bbox, gt_mask = modellib.load_image_gt(dataset, config, image_id, use_mini_mask=False)\n",
    "    # # 显示检测结果\n",
    "    results = model.detect_molded(np.expand_dims(image, 0), np.expand_dims(image_meta, 0), verbose=1)\n",
    "    r = results[0]\n",
    "    pre_masks, pre_class_ids, pre_rois, pre_scores = r['masks'], r[\"class_ids\"], r[\"rois\"], r[\"scores\"]\n",
    "    gt_match, pred_match, overlaps = compute_matches(gt_bbox, gt_class_id, gt_mask,\n",
    "                                                     pre_rois, pre_class_ids, pre_scores, pre_masks)\n",
    "    return (gt_match, pred_match, overlaps, pre_scores)\n",
    "\n",
    "count1=0\n",
    "for image_id in image_ids:\n",
    "    gt_match, pred_match, overlaps, pre_scores = calculateMatch(image_id)\n",
    "    # 保存预测结果\n",
    "    if count1 == 0:\n",
    "        gt_match_all,pred_match_all,pre_scores_all = gt_match, pred_match, pre_scores\n",
    "    else:\n",
    "        gt_match_all = np.concatenate((gt_match_all, gt_match), axis=0)\n",
    "        pred_match_all = np.concatenate((pred_match_all, pred_match), axis=0)\n",
    "        pre_scores_all = np.concatenate((pre_scores_all, pre_scores), axis=0)\n",
    "    count1+=1\n",
    "\n",
    "# sort pred_match_all by pre_scores_all\n",
    "pred_match_all = np.array([x for _, x in sorted(zip(list(pre_scores_all),list(pred_match_all)),reverse=True)])\n",
    "\n",
    "# Compute precision and recall at each prediction box step\n",
    "precisions = np.cumsum(pred_match_all > -1) / (np.arange(len(pred_match_all)) + 1)\n",
    "recalls = np.cumsum(pred_match_all > -1).astype(np.float32) / len(gt_match_all)\n",
    "\n",
    "# Pad with start and end values to simplify the math\n",
    "precisions = np.concatenate([[1], precisions, [0]])\n",
    "recalls = np.concatenate([[0], recalls, [1]])\n",
    "\n",
    "    \n"
   ]
  },
  {
   "cell_type": "code",
   "execution_count": 13,
   "metadata": {},
   "outputs": [
    {
     "name": "stdout",
     "output_type": "stream",
     "text": [
      "precisions:  [1.         1.         1.         1.         1.         1.\n",
      " 1.         1.         1.         1.         1.         1.\n",
      " 1.         1.         1.         1.         1.         1.\n",
      " 1.         1.         1.         1.         1.         1.\n",
      " 1.         1.         1.         1.         1.         1.\n",
      " 1.         1.         1.         1.         1.         1.\n",
      " 1.         1.         1.         1.         1.         1.\n",
      " 1.         1.         1.         1.         1.         1.\n",
      " 1.         1.         1.         1.         1.         1.\n",
      " 1.         1.         1.         1.         1.         1.\n",
      " 1.         1.         1.         1.         1.         1.\n",
      " 1.         1.         1.         1.         1.         1.\n",
      " 1.         1.         1.         1.         1.         1.\n",
      " 1.         1.         1.         1.         1.         1.\n",
      " 1.         1.         1.         1.         1.         1.\n",
      " 1.         1.         1.         1.         1.         1.\n",
      " 1.         1.         1.         1.         1.         1.\n",
      " 1.         1.         1.         1.         1.         1.\n",
      " 1.         1.         1.         1.         1.         1.\n",
      " 1.         1.         1.         1.         1.         1.\n",
      " 1.         1.         1.         1.         1.         1.\n",
      " 1.         1.         1.         1.         1.         1.\n",
      " 1.         1.         1.         1.         1.         1.\n",
      " 1.         1.         1.         1.         0.99295775 0.99300699\n",
      " 0.99305556 0.99310345 0.99315068 0.99319728 0.98648649 0.98657718\n",
      " 0.98666667 0.98675497 0.98684211 0.9869281  0.98701299 0.98709677\n",
      " 0.98076923 0.98089172 0.98101266 0.98113208 0.98125    0.98136646\n",
      " 0.98148148 0.98159509 0.98170732 0.98181818 0.98192771 0.98203593\n",
      " 0.97619048 0.97633136 0.97647059 0.97660819 0.97674419 0.97687861\n",
      " 0.97701149 0.97714286 0.97727273 0.97740113 0.97752809 0.97765363\n",
      " 0.97777778 0.97790055 0.97802198 0.97814208 0.97826087 0.97837838\n",
      " 0.97849462 0.97326203 0.97340426 0.97354497 0.97368421 0.97382199\n",
      " 0.97395833 0.97409326 0.9742268  0.97435897 0.9744898  0.97461929\n",
      " 0.97474747 0.97487437 0.975      0.97512438 0.97524752 0.97536946\n",
      " 0.9754902  0.97560976 0.97572816 0.97584541 0.97596154 0.97607656\n",
      " 0.97619048 0.97156398 0.97169811 0.97183099 0.97196262 0.97209302\n",
      " 0.96759259 0.96313364 0.96330275 0.96347032 0.96363636 0.9638009\n",
      " 0.96396396 0.96412556 0.96428571 0.96444444 0.96460177 0.96475771\n",
      " 0.96491228 0.96069869 0.96086957 0.96103896 0.9612069  0.96137339\n",
      " 0.96153846 0.95744681 0.95762712 0.9535865  0.95378151 0.9539749\n",
      " 0.95416667 0.95435685 0.95454545 0.95473251 0.95491803 0.95102041\n",
      " 0.95121951 0.951417   0.94758065 0.9437751  0.944      0.94023904\n",
      " 0.94047619 0.93675889 0.93700787 0.9372549  0.93359375 0.93385214\n",
      " 0.93410853 0.93436293 0.93076923 0.93103448 0.93129771 0.93155894\n",
      " 0.9280303  0.9245283  0.92105263 0.92134831 0.92164179 0.92193309\n",
      " 0.92222222 0.91881919 0.91544118 0.91575092 0.91605839 0.91272727\n",
      " 0.90942029 0.90974729 0.91007194 0.91039427 0.91071429 0.90747331\n",
      " 0.90780142 0.90459364 0.90492958 0.90526316 0.9020979  0.8989547\n",
      " 0.89930556 0.89965398 0.89655172 0.89347079 0.89041096 0.89078498\n",
      " 0.89115646 0.89152542 0.89189189 0.88888889 0.88590604 0.88294314\n",
      " 0.88       0.87707641 0.87417219 0.87128713 0.87171053 0.87213115\n",
      " 0.86928105 0.86644951 0.86363636 0.86084142 0.85806452 0.8585209\n",
      " 0.85897436 0.85623003 0.85350318 0.85396825 0.85443038 0.85173502\n",
      " 0.8490566  0.84639498 0.84375    0.84423676 0.84161491 0.84210526\n",
      " 0.84259259 0.84       0.8404908  0.83792049 0.83841463 0.83586626\n",
      " 0.83333333 0.83383686 0.8313253  0.82882883 0.82934132 0.82686567\n",
      " 0.82440476 0.82195846 0.82248521 0.820059   0.82058824 0.81818182\n",
      " 0.81578947 0.81341108 0.81104651 0.80869565 0.80635838 0.80691643\n",
      " 0.8045977  0.80229226 0.8        0.7977208  0.79829545 0.79603399\n",
      " 0.79378531 0.7915493  0.78932584 0.78991597 0.7877095  0.78551532\n",
      " 0.78333333 0.78116343 0.77900552 0.7768595  0.77472527 0.77260274\n",
      " 0.7704918  0.76839237 0.76902174 0.76693767 0.76486486 0.76549865\n",
      " 0.76612903 0.76407507 0.76203209 0.76       0.7606383  0.75862069\n",
      " 0.75661376 0.75461741 0.75263158 0.75065617 0.7486911  0.74673629\n",
      " 0.74479167 0.74285714 0.74093264 0.73901809 0.7371134  0.73521851\n",
      " 0.73333333 0.7314578  0.72959184 0.72773537 0.72588832 0.72405063\n",
      " 0.72222222 0.72040302 0.71859296 0.71679198 0.715      0.71321696\n",
      " 0.        ]\n",
      "AP:  0.9306940906771195\n"
     ]
    },
    {
     "data": {
      "image/png": "[encoded data removed]",
      "text/plain": [
       "<Figure size 432x288 with 1 Axes>"
      ]
     },
     "metadata": {},
     "output_type": "display_data"
    },
    {
     "name": "stdout",
     "output_type": "stream",
     "text": [
      "保存txt文件成功\n",
      "保存txt文件成功\n"
     ]
    }
   ],
   "source": [
    "print(\"precisions: \", precisions)\n",
    "print(\"AP: \", AP)\n",
    "\n",
    "plt.figure(\"P-R Curve\")\n",
    "plt.title('Precision-Recall Curve. AP@50 = {:.3f}'.format(AP))\n",
    "plt.xlabel('Recall')\n",
    "plt.ylabel('Precision')\n",
    "plt.plot(recalls, precisions, 'b', label='PR')\n",
    "plt.show()\n",
    "text_save('Kpreci.txt', precisions)\n",
    "text_save('Krecall.txt', recalls)  "
   ]
  },
  {
   "cell_type": "code",
   "execution_count": null,
   "metadata": {},
   "outputs": [],
   "source": []
  }
 ],
 "metadata": {
  "interpreter": {
   "hash": "293c1db29015928fa70f2533541959f8126d727ab89dca2b968066b00ebfbe03"
  },
  "kernelspec": {
   "display_name": "Python 3.7.11 64-bit ('tf1': conda)",
   "language": "python",
   "name": "python3"
  },
  "language_info": {
   "codemirror_mode": {
    "name": "ipython",
    "version": 3
   },
   "file_extension": ".py",
   "mimetype": "text/x-python",
   "name": "python",
   "nbconvert_exporter": "python",
   "pygments_lexer": "ipython3",
   "version": "3.7.11"
  },
  "orig_nbformat": 4
 },
 "nbformat": 4,
 "nbformat_minor": 2
}
